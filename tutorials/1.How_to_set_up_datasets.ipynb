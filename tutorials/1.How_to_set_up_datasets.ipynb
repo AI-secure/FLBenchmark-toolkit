{
 "cells": [
  {
   "cell_type": "markdown",
   "metadata": {},
   "source": [
    "1. Set the directory to store the data"
   ]
  },
  {
   "cell_type": "code",
   "execution_count": 1,
   "metadata": {},
   "outputs": [],
   "source": [
    "import flbenchmark.datasets\n",
    "\n",
    "flbd = flbenchmark.datasets.FLBDatasets('../data') # default path is './data'"
   ]
  },
  {
   "cell_type": "markdown",
   "metadata": {},
   "source": [
    "2. Set up a LEAF's dataset"
   ]
  },
  {
   "cell_type": "code",
   "execution_count": 2,
   "metadata": {},
   "outputs": [
    {
     "name": "stdout",
     "output_type": "stream",
     "text": [
      "{'name': 'sent140', 'type': 0, 'label_name': 'y', 'parties': [<flbenchmark.datasets.dataset.Party object at 0x7f16b1a069d0>, <flbenchmark.datasets.dataset.Party object at 0x7f16b1a06a90>, <flbenchmark.datasets.dataset.Party object at 0x7f16b1a06af0>, <flbenchmark.datasets.dataset.Party object at 0x7f16b1a06b50>, <flbenchmark.datasets.dataset.Party object at 0x7f16b1a06bb0>, <flbenchmark.datasets.dataset.Party object at 0x7f16b1a06c10>, <flbenchmark.datasets.dataset.Party object at 0x7f16b1a06c70>, <flbenchmark.datasets.dataset.Party object at 0x7f16b1a06cd0>, <flbenchmark.datasets.dataset.Party object at 0x7f16b1a06d30>, <flbenchmark.datasets.dataset.Party object at 0x7f16b1a06d90>, <flbenchmark.datasets.dataset.Party object at 0x7f16b1a06df0>, <flbenchmark.datasets.dataset.Party object at 0x7f16b1a06e50>, <flbenchmark.datasets.dataset.Party object at 0x7f16b1a06eb0>, <flbenchmark.datasets.dataset.Party object at 0x7f16b1a06f10>, <flbenchmark.datasets.dataset.Party object at 0x7f16b1a06f70>, <flbenchmark.datasets.dataset.Party object at 0x7f16b1a06fd0>, <flbenchmark.datasets.dataset.Party object at 0x7f16b1a06040>, <flbenchmark.datasets.dataset.Party object at 0x7f16b1a06a30>, <flbenchmark.datasets.dataset.Party object at 0x7f16b17e1130>, <flbenchmark.datasets.dataset.Party object at 0x7f16b17e1190>, <flbenchmark.datasets.dataset.Party object at 0x7f16b17e11f0>, <flbenchmark.datasets.dataset.Party object at 0x7f16b17e1250>, <flbenchmark.datasets.dataset.Party object at 0x7f16b17e12b0>, <flbenchmark.datasets.dataset.Party object at 0x7f16b17e1310>, <flbenchmark.datasets.dataset.Party object at 0x7f16b17e1370>, <flbenchmark.datasets.dataset.Party object at 0x7f16b17e13d0>, <flbenchmark.datasets.dataset.Party object at 0x7f16b17e1430>, <flbenchmark.datasets.dataset.Party object at 0x7f16b17e1490>, <flbenchmark.datasets.dataset.Party object at 0x7f16b17e14f0>, <flbenchmark.datasets.dataset.Party object at 0x7f16b17e1550>, <flbenchmark.datasets.dataset.Party object at 0x7f16b17e15b0>, <flbenchmark.datasets.dataset.Party object at 0x7f16b17e1610>, <flbenchmark.datasets.dataset.Party object at 0x7f16b17e1670>, <flbenchmark.datasets.dataset.Party object at 0x7f16b17e16d0>, <flbenchmark.datasets.dataset.Party object at 0x7f16b17e1730>, <flbenchmark.datasets.dataset.Party object at 0x7f16b17e1790>, <flbenchmark.datasets.dataset.Party object at 0x7f16b17e17f0>, <flbenchmark.datasets.dataset.Party object at 0x7f16b17e1850>, <flbenchmark.datasets.dataset.Party object at 0x7f16b17e18b0>, <flbenchmark.datasets.dataset.Party object at 0x7f16b17e1910>, <flbenchmark.datasets.dataset.Party object at 0x7f16b17e1970>, <flbenchmark.datasets.dataset.Party object at 0x7f16b17e19d0>, <flbenchmark.datasets.dataset.Party object at 0x7f16b17e1a30>, <flbenchmark.datasets.dataset.Party object at 0x7f16b17e1a90>, <flbenchmark.datasets.dataset.Party object at 0x7f16b17e1af0>, <flbenchmark.datasets.dataset.Party object at 0x7f16b17e1b50>, <flbenchmark.datasets.dataset.Party object at 0x7f16b17e1bb0>, <flbenchmark.datasets.dataset.Party object at 0x7f16b17e1c10>, <flbenchmark.datasets.dataset.Party object at 0x7f16b17e1c70>, <flbenchmark.datasets.dataset.Party object at 0x7f16b17e1cd0>, <flbenchmark.datasets.dataset.Party object at 0x7f16b17e1d30>, <flbenchmark.datasets.dataset.Party object at 0x7f16b17e1d90>, <flbenchmark.datasets.dataset.Party object at 0x7f16b17e1df0>, <flbenchmark.datasets.dataset.Party object at 0x7f16b17e1e50>, <flbenchmark.datasets.dataset.Party object at 0x7f16b17e1eb0>, <flbenchmark.datasets.dataset.Party object at 0x7f16b17e1f10>, <flbenchmark.datasets.dataset.Party object at 0x7f16b17e1f70>, <flbenchmark.datasets.dataset.Party object at 0x7f16b17e1fd0>, <flbenchmark.datasets.dataset.Party object at 0x7f16b17e1040>, <flbenchmark.datasets.dataset.Party object at 0x7f16b17e10a0>, <flbenchmark.datasets.dataset.Party object at 0x7f16b1743130>, <flbenchmark.datasets.dataset.Party object at 0x7f16b1743190>, <flbenchmark.datasets.dataset.Party object at 0x7f16b17431f0>, <flbenchmark.datasets.dataset.Party object at 0x7f16b1743250>, <flbenchmark.datasets.dataset.Party object at 0x7f16b17432b0>, <flbenchmark.datasets.dataset.Party object at 0x7f16b1743310>, <flbenchmark.datasets.dataset.Party object at 0x7f16b1743370>, <flbenchmark.datasets.dataset.Party object at 0x7f16b17433d0>, <flbenchmark.datasets.dataset.Party object at 0x7f16b1743430>, <flbenchmark.datasets.dataset.Party object at 0x7f16b1743490>, <flbenchmark.datasets.dataset.Party object at 0x7f16b17434f0>, <flbenchmark.datasets.dataset.Party object at 0x7f16b1743550>, <flbenchmark.datasets.dataset.Party object at 0x7f16b17435b0>, <flbenchmark.datasets.dataset.Party object at 0x7f16b1743610>, <flbenchmark.datasets.dataset.Party object at 0x7f16b1743670>, <flbenchmark.datasets.dataset.Party object at 0x7f16b17436d0>, <flbenchmark.datasets.dataset.Party object at 0x7f16b1743730>, <flbenchmark.datasets.dataset.Party object at 0x7f16b1743790>], 'options': {'leaf_args': '--sf 0.5 -k 100 -s niid -t sample --smplseed 1234567890 --spltseed 1234567890'}}\n",
      "{'name': 'AceMas21', 'column_name': ['y', 'x0', 'x1', 'x2', 'x3', 'x4', 'x5'], 'records': [[0, '1975480069', 'Sat May 30 15:14:48 PDT 2009', 'NO_QUERY', 'AceMas21', \"@GHmltn Oh no!!! Thats pants  I'm very classy and having a pint..yes pint of cider!\", 'training'], [0, '2053626665', 'Sat Jun 06 05:11:34 PDT 2009', 'NO_QUERY', 'AceMas21', '@GHmltn nope ', 'training'], [0, '2053716015', 'Sat Jun 06 05:29:00 PDT 2009', 'NO_QUERY', 'AceMas21', '@GHmltn Not in the mood for blip at the mo  Sorry......x', 'training'], [0, '2053725526', 'Sat Jun 06 05:30:41 PDT 2009', 'NO_QUERY', 'AceMas21', '@GHmltn I know......just dont wanna ', 'training'], [1, '1688009765', 'Sun May 03 10:07:32 PDT 2009', 'NO_QUERY', 'AceMas21', \"@Emma300 I haven't  Thanks for the offer tho  I will check Amazon they are usually really good for old films\", 'training'], [1, '1964991402', 'Fri May 29 15:08:53 PDT 2009', 'NO_QUERY', 'AceMas21', '@philkirby Haha!! Change is usually a good thing  Well actually it must be because you are following me now!!', 'training'], [1, '1983327612', 'Sun May 31 12:56:46 PDT 2009', 'NO_QUERY', 'AceMas21', \"@sarahbellafina You're welcome!! Glad you like \", 'training'], [1, '1996215916', 'Mon Jun 01 14:43:09 PDT 2009', 'NO_QUERY', 'AceMas21', '@Nuff55 Aww bless you thanks ', 'training'], [1, '2008558381', 'Tue Jun 02 14:18:37 PDT 2009', 'NO_QUERY', 'AceMas21', \"@GHmltn Ahh well I'm sorry for that and if you want me to behave I will! \", 'training'], [1, '2015985635', 'Wed Jun 03 05:56:35 PDT 2009', 'NO_QUERY', 'AceMas21', '@Lates No not pigeon sausages today!! Just abit about me really, just published it ', 'training'], [1, '2046360165', 'Fri Jun 05 12:04:03 PDT 2009', 'NO_QUERY', 'AceMas21', '@Dameunited I can hold a tune yes! I used to sing for my school  I will put on a Madness song for you any particular one?', 'training'], [1, '2063805096', 'Sun Jun 07 04:08:38 PDT 2009', 'NO_QUERY', 'AceMas21', \"@paulmason10538 Hiya! I'm fine thanks  Hows Athens?\", 'training'], [1, '2064351345', 'Sun Jun 07 06:01:23 PDT 2009', 'NO_QUERY', 'AceMas21', '@Schofe You will get loads of people asking you to do that now!!!! ', 'training']]}\n"
     ]
    }
   ],
   "source": [
    "train_dataset, test_dataset = flbd.leafDatasets('sent140')\n",
    "\n",
    "# It shows the structure of the dataset.\n",
    "# 'name' is the name of this dataset.\n",
    "# 'type' is the type of this task. 0 means horizontal task / 1 means vertical task\n",
    "# 'label_name' is the name of the label column.\n",
    "# 'parties' is a list of Party classes that described the data in parties. We will see it later.\n",
    "# For vertical tasks, 'unique_id' is contained in 'options'. It represents the name of the unique_id (which can use to align the data) column.\n",
    "# For LEAF's datasets, 'options' contains the arguments passed to LEAF.\n",
    "print(test_dataset.__dict__)\n",
    "\n",
    "# It shows the structure of a party.\n",
    "# 'name' is the name of this party.\n",
    "# 'column_name' is a list of column names.\n",
    "# 'records' is a list of data.\n",
    "print(test_dataset.parties[2].__dict__)\n",
    "\n",
    "# The output below uses the cached data. When you run this for the first time, you will see something like this:\n",
    "# Cloning into '../data/_leaf'...\n",
    "# bash preprocess.sh --sf 0.5 -k 100 -s niid -t sample --spltseed 1549774894\n",
    "# ------------------------------\n",
    "# retrieving raw data\n",
    "# ......\n",
    "# ......\n",
    "# ......"
   ]
  },
  {
   "cell_type": "markdown",
   "metadata": {},
   "source": [
    "3. Set up a FATE's dataset"
   ]
  },
  {
   "cell_type": "code",
   "execution_count": 3,
   "metadata": {},
   "outputs": [
    {
     "name": "stdout",
     "output_type": "stream",
     "text": [
      "{'name': 'student_horizontal', 'type': 0, 'label_name': 'y', 'parties': [<flbenchmark.datasets.dataset.Party object at 0x7f17780a1e20>], 'options': None}\n",
      "{'name': 'student_homo_test', 'column_name': ['id', 'x6', 'x7', 'x8', 'x9', 'x10', 'x11', 'x12', 'y', 'x0', 'x1', 'x2', 'x3', 'x4', 'x5'], 'records': [[316, 5, 3, 3, 1, 2, 1, 0, 0, 18, 2, 1, 2, 2, 0], [317, 4, 3, 4, 1, 1, 5, 9, 9, 18, 4, 3, 1, 3, 0], [318, 4, 3, 4, 2, 5, 5, 0, 10, 17, 3, 4, 1, 3, 0], [319, 4, 4, 4, 3, 3, 5, 2, 11, 18, 4, 4, 1, 2, 0], [320, 5, 2, 2, 1, 2, 5, 23, 13, 17, 4, 3, 1, 2, 0], [321, 4, 2, 2, 1, 1, 3, 12, 9, 17, 2, 2, 1, 2, 0], [322, 3, 3, 2, 2, 2, 3, 3, 11, 17, 2, 2, 1, 3, 0], [323, 3, 4, 3, 2, 3, 5, 1, 15, 17, 3, 1, 1, 3, 0], [324, 3, 3, 3, 2, 3, 2, 0, 15, 17, 0, 2, 2, 3, 0], [325, 4, 3, 3, 2, 2, 3, 3, 11, 18, 4, 4, 1, 3, 0], [326, 4, 3, 5, 3, 5, 5, 3, 16, 17, 3, 3, 1, 1, 0], [327, 4, 4, 5, 5, 5, 4, 8, 10, 17, 2, 2, 4, 1, 0], [328, 5, 4, 4, 1, 3, 4, 7, 9, 17, 4, 4, 1, 3, 0], [329, 4, 3, 3, 1, 2, 4, 4, 14, 17, 4, 4, 2, 3, 0], [330, 4, 5, 5, 2, 4, 5, 2, 8, 18, 2, 2, 1, 4, 0], [331, 4, 4, 3, 1, 1, 5, 7, 14, 17, 2, 4, 1, 3, 0], [332, 5, 3, 4, 1, 1, 4, 0, 0, 18, 3, 3, 1, 2, 0], [333, 4, 3, 3, 1, 1, 2, 0, 0, 18, 2, 2, 1, 2, 0], [334, 4, 4, 4, 1, 1, 4, 0, 0, 18, 2, 2, 2, 4, 0], [335, 4, 4, 5, 1, 3, 5, 16, 15, 17, 3, 4, 1, 3, 0], [336, 5, 4, 3, 1, 2, 5, 12, 13, 19, 3, 1, 1, 3, 1], [337, 4, 3, 2, 2, 3, 2, 0, 0, 17, 3, 2, 1, 2, 0], [338, 5, 3, 3, 1, 1, 1, 7, 17, 18, 3, 3, 1, 4, 0], [339, 4, 3, 3, 2, 3, 2, 4, 10, 17, 3, 2, 1, 2, 0], [340, 4, 3, 4, 1, 3, 3, 4, 11, 19, 2, 1, 1, 3, 1], [341, 4, 3, 3, 2, 2, 2, 0, 0, 18, 4, 4, 1, 2, 1], [342, 4, 3, 3, 1, 3, 5, 11, 15, 18, 3, 4, 1, 2, 0], [343, 3, 3, 1, 1, 2, 4, 0, 0, 17, 2, 2, 1, 2, 1], [344, 4, 3, 3, 1, 2, 3, 4, 10, 18, 2, 3, 1, 3, 0], [345, 5, 4, 3, 2, 3, 1, 7, 14, 18, 3, 2, 1, 3, 0], [346, 5, 3, 2, 1, 2, 4, 9, 16, 18, 4, 3, 1, 3, 0], [347, 5, 4, 5, 2, 3, 5, 0, 9, 18, 4, 3, 1, 3, 0], [348, 4, 4, 3, 1, 3, 4, 0, 15, 17, 4, 3, 1, 3, 0], [349, 2, 5, 5, 5, 5, 5, 10, 13, 18, 3, 2, 2, 1, 1], [350, 5, 4, 4, 3, 3, 2, 8, 8, 19, 1, 1, 3, 2, 3], [351, 4, 5, 4, 2, 3, 3, 2, 13, 17, 3, 3, 2, 2, 0], [352, 4, 3, 3, 2, 3, 3, 7, 8, 18, 1, 3, 1, 1, 1], [353, 4, 4, 4, 3, 3, 5, 4, 8, 19, 1, 1, 3, 1, 1], [354, 4, 5, 5, 1, 3, 2, 4, 11, 17, 4, 3, 2, 2, 0], [355, 5, 3, 4, 1, 1, 5, 0, 9, 18, 3, 3, 1, 2, 0], [356, 4, 3, 3, 1, 2, 5, 4, 13, 17, 4, 4, 2, 2, 0], [357, 1, 2, 3, 1, 2, 5, 2, 11, 17, 3, 2, 2, 2, 0], [358, 3, 3, 2, 1, 2, 3, 4, 10, 18, 1, 1, 2, 1, 0], [359, 5, 3, 2, 1, 1, 4, 0, 16, 18, 1, 1, 2, 3, 0], [360, 4, 3, 4, 1, 4, 5, 0, 13, 18, 1, 4, 3, 2, 0], [361, 4, 4, 3, 2, 3, 5, 2, 12, 18, 1, 1, 2, 2, 1], [362, 4, 3, 2, 1, 3, 3, 0, 10, 18, 3, 3, 2, 2, 0], [363, 2, 3, 4, 1, 1, 1, 0, 15, 17, 4, 4, 1, 2, 0], [364, 3, 2, 2, 1, 2, 3, 0, 12, 17, 1, 2, 2, 2, 0], [365, 3, 3, 4, 2, 4, 3, 4, 10, 18, 1, 3, 2, 2, 0], [366, 4, 2, 2, 2, 2, 5, 0, 13, 18, 4, 4, 2, 3, 0], [367, 5, 2, 1, 1, 2, 1, 0, 0, 17, 1, 1, 3, 1, 1], [368, 5, 2, 3, 1, 2, 4, 0, 10, 18, 2, 3, 2, 1, 0], [369, 3, 2, 2, 4, 2, 5, 10, 11, 18, 4, 4, 3, 2, 0], [370, 3, 2, 2, 1, 1, 3, 4, 9, 19, 3, 2, 2, 2, 2], [371, 4, 3, 3, 2, 3, 3, 3, 12, 18, 1, 2, 3, 1, 0], [372, 3, 4, 3, 1, 1, 3, 8, 11, 17, 2, 2, 1, 3, 0], [373, 3, 5, 5, 1, 3, 1, 14, 5, 17, 1, 2, 1, 1, 0], [374, 5, 4, 4, 1, 1, 1, 0, 19, 18, 4, 4, 2, 3, 0], [375, 4, 3, 2, 1, 2, 4, 2, 10, 18, 1, 1, 4, 3, 0], [376, 5, 4, 3, 1, 1, 3, 4, 15, 20, 4, 2, 2, 3, 2], [377, 5, 4, 3, 3, 4, 2, 4, 10, 18, 4, 4, 1, 2, 0], [378, 4, 1, 3, 1, 2, 1, 0, 15, 18, 3, 3, 1, 2, 0], [379, 4, 5, 4, 2, 3, 1, 17, 10, 17, 3, 1, 1, 2, 0], [380, 3, 2, 4, 1, 4, 2, 4, 14, 18, 4, 4, 1, 2, 0], [381, 4, 4, 3, 1, 3, 5, 5, 7, 18, 2, 1, 2, 1, 0], [382, 4, 4, 3, 1, 1, 3, 2, 10, 17, 2, 3, 2, 2, 0], [383, 4, 3, 2, 1, 3, 5, 0, 0, 19, 1, 1, 2, 1, 1], [384, 5, 4, 3, 4, 3, 3, 14, 5, 18, 4, 2, 2, 1, 1], [385, 5, 3, 3, 1, 3, 4, 2, 10, 18, 2, 2, 2, 3, 0], [386, 4, 4, 3, 2, 2, 5, 7, 6, 18, 4, 4, 3, 1, 0], [387, 5, 4, 2, 1, 2, 5, 0, 0, 19, 2, 3, 1, 3, 1], [388, 4, 3, 4, 1, 1, 1, 0, 8, 18, 3, 1, 1, 2, 0], [389, 1, 1, 1, 1, 1, 5, 0, 0, 18, 1, 1, 2, 2, 1], [390, 5, 5, 4, 4, 5, 4, 11, 9, 20, 2, 2, 1, 2, 2], [391, 2, 4, 5, 3, 4, 2, 3, 16, 17, 3, 1, 2, 1, 0], [392, 5, 5, 3, 3, 3, 3, 3, 7, 21, 1, 1, 1, 1, 3], [393, 4, 4, 1, 3, 4, 5, 0, 10, 18, 3, 2, 3, 1, 0], [394, 3, 2, 3, 3, 3, 5, 5, 9, 19, 1, 1, 1, 1, 0]]}\n"
     ]
    }
   ],
   "source": [
    "# Setting up a FATE's dataset is similar to LEAF.\n",
    "# Notes: most FATE's datasets lack test data. test_dataset will be None if it not exists.\n",
    "\n",
    "train_dataset, test_dataset = flbd.fateDatasets('student_horizontal')\n",
    "\n",
    "print(test_dataset.__dict__)\n",
    "\n",
    "print(test_dataset.parties[0].__dict__)"
   ]
  }
 ],
 "metadata": {
  "interpreter": {
   "hash": "d47088ab44ca92c5be0367b8dfbd8c9e1db35c93d0b8c6e085b0f12e6cb59701"
  },
  "kernelspec": {
   "display_name": "Python 3.9.7 64-bit ('flb': conda)",
   "language": "python",
   "name": "python3"
  },
  "language_info": {
   "codemirror_mode": {
    "name": "ipython",
    "version": 3
   },
   "file_extension": ".py",
   "mimetype": "text/x-python",
   "name": "python",
   "nbconvert_exporter": "python",
   "pygments_lexer": "ipython3",
   "version": "3.9.7"
  },
  "orig_nbformat": 4
 },
 "nbformat": 4,
 "nbformat_minor": 2
}
